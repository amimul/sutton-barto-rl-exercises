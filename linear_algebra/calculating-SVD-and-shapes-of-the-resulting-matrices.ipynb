{
 "cells": [
  {
   "cell_type": "markdown",
   "metadata": {},
   "source": [
    "SVD"
   ]
  },
  {
   "cell_type": "markdown",
   "metadata": {},
   "source": [
    "\\begin{align*}\n",
    "\\underset{m\\times n}{A}  &= U \\Sigma V^T \\\\\n",
    "\\end{align*}"
   ]
  },
  {
   "cell_type": "markdown",
   "metadata": {},
   "source": [
    "where $U$ and $V^T$ are orthonormal matrices, and $\\Sigma$ is a diagonal matrix."
   ]
  },
  {
   "cell_type": "markdown",
   "metadata": {},
   "source": [
    "One common way of calculating SVD is as follows"
   ]
  },
  {
   "cell_type": "markdown",
   "metadata": {},
   "source": [
    "\\begin{align*}\n",
    "\\underset{n\\times n}{A^TA} \n",
    "&= (V \\Sigma^T U^T)U \\Sigma V^T \\\\\n",
    "&= V \\Sigma^T \\Sigma V^T \\\\\n",
    "\\end{align*}"
   ]
  },
  {
   "cell_type": "markdown",
   "metadata": {},
   "source": [
    "So calculating the eigenvalues and eigenvectors and $A^TA$ would yield $\\Sigma$ and $V^T$, which are of shapes $k \\times k$ and $k \\times n$, respectively, where $k$ is the number of positive (non-zero) eigenvalues, $k \\le n$."
   ]
  },
  {
   "cell_type": "markdown",
   "metadata": {},
   "source": [
    "Then, $U$ could be obtained by"
   ]
  },
  {
   "cell_type": "markdown",
   "metadata": {},
   "source": [
    "\\begin{align*}\n",
    "\\underset{m\\times n}{A}\\; \\underset{n \\times k}{V}  &= \\underset{m\\times n}{U} \\; \\underset{k \\times k}{\\Sigma} \\\\\n",
    "\\underset{m\\times k}{U} &= \\underset{m\\times n}{A}\\; \\underset{n \\times k}{V}\\; \\underset{k \\times k}{\\Sigma^{-1}} \\\\\n",
    "\\end{align*}"
   ]
  },
  {
   "cell_type": "markdown",
   "metadata": {},
   "source": [
    "So the solution is"
   ]
  },
  {
   "cell_type": "markdown",
   "metadata": {},
   "source": [
    "\\begin{align*}\n",
    "\\underset{m\\times n}{A}  &= \\underset{m \\times k}{U}\\; \\underset{k \\times k}{\\Sigma}\\; \\underset{k \\times n}{V^T} \\\\\n",
    "\\end{align*}"
   ]
  },
  {
   "cell_type": "markdown",
   "metadata": {},
   "source": [
    "Since resulting $U$ and $V$ are non-square with uninformative columns in $U$ and rows in $V^T$ discarded, this version of SVD is named reduced SVD. \n",
    "\n",
    "To conduct full SVD, just leave the $n-k$ rows in $V.T$ intact, and keep all 0 eigenvalues in $\\Sigma$. In an analogous manner, The $U$ shape $m \\times m$ could be calculated by eigendecomposition of $AA^T = U\\Sigma V^T(V\\Sigma U^T) = U \\Sigma U^T$."
   ]
  },
  {
   "cell_type": "markdown",
   "metadata": {},
   "source": [
    "**A question not understood yet**, what does uninformative mean, why ignoring those columns and rows won't affect reconstruction?"
   ]
  },
  {
   "cell_type": "markdown",
   "metadata": {},
   "source": [
    "# Experiment"
   ]
  },
  {
   "cell_type": "code",
   "execution_count": 1,
   "metadata": {},
   "outputs": [],
   "source": [
    "import numpy as np"
   ]
  },
  {
   "cell_type": "code",
   "execution_count": 2,
   "metadata": {},
   "outputs": [],
   "source": [
    "np.set_printoptions(suppress=True, precision=4)"
   ]
  },
  {
   "cell_type": "markdown",
   "metadata": {},
   "source": [
    "Below is the SVD of two matrices of shapes $m < n$ and $m > n$, respectively. For each matrix, we conduct SVD first, and then reconstruct the original matrix with decomposed parts."
   ]
  },
  {
   "cell_type": "markdown",
   "metadata": {},
   "source": [
    "### $m < n$"
   ]
  },
  {
   "cell_type": "code",
   "execution_count": 3,
   "metadata": {},
   "outputs": [],
   "source": [
    "# An example taken from http://www.d.umn.edu/~mhampton/m4326svd_example.pdf\n",
    "A = np.array([[3, 2, 2], \n",
    "              [2, 3, -2]])"
   ]
  },
  {
   "cell_type": "code",
   "execution_count": 4,
   "metadata": {},
   "outputs": [],
   "source": [
    "eigvals, eigvecs = np.linalg.eig(A.T @ A)"
   ]
  },
  {
   "cell_type": "code",
   "execution_count": 5,
   "metadata": {},
   "outputs": [],
   "source": [
    "sorted_indices = np.argsort(eigvals)[::-1]\n",
    "eigvals = eigvals[sorted_indices]\n",
    "eigvecs = eigvecs[:, sorted_indices]    # ignore the elements in eigenvectors corresponding to zero-eigenvalues"
   ]
  },
  {
   "cell_type": "code",
   "execution_count": 6,
   "metadata": {},
   "outputs": [],
   "source": [
    "positive_indices = eigvals > 1e-8"
   ]
  },
  {
   "cell_type": "code",
   "execution_count": 7,
   "metadata": {},
   "outputs": [],
   "source": [
    "S = np.sqrt(eigvals[positive_indices])    # Sigma\n",
    "V = eigvecs[:,positive_indices]"
   ]
  },
  {
   "cell_type": "code",
   "execution_count": 8,
   "metadata": {},
   "outputs": [],
   "source": [
    "U = A @ V @ np.diag(1 / S)"
   ]
  },
  {
   "cell_type": "code",
   "execution_count": 9,
   "metadata": {},
   "outputs": [
    {
     "name": "stdout",
     "output_type": "stream",
     "text": [
      "[[ 3  2  2]\n",
      " [ 2  3 -2]] (2, 3)\n"
     ]
    }
   ],
   "source": [
    "print(A, A.shape)"
   ]
  },
  {
   "cell_type": "code",
   "execution_count": 10,
   "metadata": {},
   "outputs": [
    {
     "name": "stdout",
     "output_type": "stream",
     "text": [
      "[[-0.7071  0.7071]\n",
      " [-0.7071 -0.7071]] (2, 2)\n"
     ]
    }
   ],
   "source": [
    "print(U, U.shape)"
   ]
  },
  {
   "cell_type": "code",
   "execution_count": 11,
   "metadata": {},
   "outputs": [
    {
     "name": "stdout",
     "output_type": "stream",
     "text": [
      "[[5. 0.]\n",
      " [0. 3.]] (2, 2)\n"
     ]
    }
   ],
   "source": [
    "print(np.diag(S), np.diag(S).shape)"
   ]
  },
  {
   "cell_type": "code",
   "execution_count": 12,
   "metadata": {},
   "outputs": [
    {
     "name": "stdout",
     "output_type": "stream",
     "text": [
      "[[-0.7071 -0.7071 -0.    ]\n",
      " [ 0.2357 -0.2357  0.9428]] (2, 3)\n"
     ]
    }
   ],
   "source": [
    "print(V.T, V.T.shape)"
   ]
  },
  {
   "cell_type": "code",
   "execution_count": 13,
   "metadata": {},
   "outputs": [
    {
     "name": "stdout",
     "output_type": "stream",
     "text": [
      "[[ 3.  2.  2.]\n",
      " [ 2.  3. -2.]]\n"
     ]
    }
   ],
   "source": [
    "print(U @ np.diag(S) @ V.T)"
   ]
  },
  {
   "cell_type": "code",
   "execution_count": 14,
   "metadata": {},
   "outputs": [
    {
     "data": {
      "text/plain": [
       "True"
      ]
     },
     "execution_count": 14,
     "metadata": {},
     "output_type": "execute_result"
    }
   ],
   "source": [
    "np.allclose(A, U @ np.diag(S) @ V.T)"
   ]
  },
  {
   "cell_type": "code",
   "execution_count": null,
   "metadata": {},
   "outputs": [],
   "source": []
  },
  {
   "cell_type": "code",
   "execution_count": null,
   "metadata": {},
   "outputs": [],
   "source": []
  },
  {
   "cell_type": "markdown",
   "metadata": {},
   "source": [
    "### $m > n$"
   ]
  },
  {
   "cell_type": "code",
   "execution_count": 15,
   "metadata": {},
   "outputs": [],
   "source": [
    "A = np.array([[ 3,  2],\n",
    "              [ 2,  3],\n",
    "              [ 2, -2]])"
   ]
  },
  {
   "cell_type": "code",
   "execution_count": 16,
   "metadata": {},
   "outputs": [],
   "source": [
    "eigvals, eigvecs = np.linalg.eig(A.T @ A)"
   ]
  },
  {
   "cell_type": "code",
   "execution_count": 17,
   "metadata": {},
   "outputs": [],
   "source": [
    "sorted_indices = np.argsort(eigvals)[::-1]\n",
    "eigvals = eigvals[sorted_indices]\n",
    "eigvecs = eigvecs[:, sorted_indices]    # ignore the elements in eigenvectors corresponding to zero-eigenvalues"
   ]
  },
  {
   "cell_type": "code",
   "execution_count": 18,
   "metadata": {},
   "outputs": [],
   "source": [
    "positive_indices = eigvals > 1e-8"
   ]
  },
  {
   "cell_type": "code",
   "execution_count": 19,
   "metadata": {},
   "outputs": [],
   "source": [
    "S = np.sqrt(eigvals[positive_indices])    # Sigma\n",
    "V = eigvecs[:,positive_indices]"
   ]
  },
  {
   "cell_type": "code",
   "execution_count": 20,
   "metadata": {},
   "outputs": [],
   "source": [
    "U = A @ V @ np.diag(1 / S)"
   ]
  },
  {
   "cell_type": "code",
   "execution_count": 21,
   "metadata": {},
   "outputs": [
    {
     "name": "stdout",
     "output_type": "stream",
     "text": [
      "[[ 3  2]\n",
      " [ 2  3]\n",
      " [ 2 -2]] (3, 2)\n"
     ]
    }
   ],
   "source": [
    "print(A, A.shape)"
   ]
  },
  {
   "cell_type": "code",
   "execution_count": 22,
   "metadata": {},
   "outputs": [
    {
     "name": "stdout",
     "output_type": "stream",
     "text": [
      "[[ 0.7071 -0.2357]\n",
      " [ 0.7071  0.2357]\n",
      " [ 0.     -0.9428]] (3, 2)\n"
     ]
    }
   ],
   "source": [
    "print(U, U.shape)"
   ]
  },
  {
   "cell_type": "code",
   "execution_count": 23,
   "metadata": {},
   "outputs": [
    {
     "name": "stdout",
     "output_type": "stream",
     "text": [
      "[[5. 0.]\n",
      " [0. 3.]] (2, 2)\n"
     ]
    }
   ],
   "source": [
    "print(np.diag(S), np.diag(S).shape)"
   ]
  },
  {
   "cell_type": "code",
   "execution_count": 24,
   "metadata": {},
   "outputs": [
    {
     "name": "stdout",
     "output_type": "stream",
     "text": [
      "[[ 0.7071  0.7071]\n",
      " [-0.7071  0.7071]] (2, 2)\n"
     ]
    }
   ],
   "source": [
    "print(V.T, V.T.shape)"
   ]
  },
  {
   "cell_type": "code",
   "execution_count": 25,
   "metadata": {},
   "outputs": [
    {
     "name": "stdout",
     "output_type": "stream",
     "text": [
      "[[ 3.  2.]\n",
      " [ 2.  3.]\n",
      " [ 2. -2.]]\n"
     ]
    }
   ],
   "source": [
    "print(U @ np.diag(S) @ V.T)"
   ]
  },
  {
   "cell_type": "code",
   "execution_count": 26,
   "metadata": {},
   "outputs": [
    {
     "data": {
      "text/plain": [
       "True"
      ]
     },
     "execution_count": 26,
     "metadata": {},
     "output_type": "execute_result"
    }
   ],
   "source": [
    "np.allclose(A, U @ np.diag(S) @ V.T)"
   ]
  },
  {
   "cell_type": "code",
   "execution_count": null,
   "metadata": {},
   "outputs": [],
   "source": []
  }
 ],
 "metadata": {
  "kernelspec": {
   "display_name": "Python 3",
   "language": "python",
   "name": "python3"
  },
  "language_info": {
   "codemirror_mode": {
    "name": "ipython",
    "version": 3
   },
   "file_extension": ".py",
   "mimetype": "text/x-python",
   "name": "python",
   "nbconvert_exporter": "python",
   "pygments_lexer": "ipython3",
   "version": "3.7.0"
  }
 },
 "nbformat": 4,
 "nbformat_minor": 2
}
